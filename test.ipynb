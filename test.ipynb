{
 "cells": [
  {
   "cell_type": "code",
   "execution_count": 1,
   "metadata": {},
   "outputs": [],
   "source": [
    "from resize_image import *\n",
    "from Image import load_img, save_img, Image, clamp_image\n",
    "from filter_image import *\n",
    "\n",
    "from locale import ABDAY_1\n",
    "from matplotlib.colors import hex2color\n",
    "from Image import Image"
   ]
  },
  {
   "cell_type": "code",
   "execution_count": 7,
   "metadata": {},
   "outputs": [],
   "source": [
    "class make_box_filter(object):\n",
    "    def __init__(self, kernel_size):\n",
    "        if kernel_size % 2 == 0:\n",
    "            raise ValueError(\"kernel size needs to be odd\")\n",
    "        self.kernel = Image(kernel_size, kernel_size, 1)\n",
    "        self.h = self.kernel.h\n",
    "        self.w = self.kernel.w\n",
    "        self.c = self.kernel.c\n",
    "        self.ret = Image(self.h, self.w, self.c)\n",
    "        for j in range(self.ret.w):\n",
    "            for i in range(self.ret.h):\n",
    "                ## Fill all with 1 and normalize\n",
    "                self.ret[i,j,0]=1/(self.ret.w*self.ret.h)\n",
    "\n",
    "    def __call__(self, local):\n",
    "        out = 0\n",
    "\n",
    "\n",
    "        return out\n",
    "\n",
    "def padding_image(img, filter):\n",
    "    stride = 1\n",
    "    padding = int((filter.h - stride)/2)\n",
    "    ret = Image(img.h+padding*2, img.w+padding*2, img.c)\n",
    "    \n",
    "    for k in range(ret.c):\n",
    "        for j in range(padding,img.w+padding):\n",
    "            for i in range(padding,img.h+padding):\n",
    "                ret[i,j,k] = img[i-padding,j-padding,k]\n",
    "\n",
    "    return ret"
   ]
  },
  {
   "cell_type": "code",
   "execution_count": 56,
   "metadata": {},
   "outputs": [],
   "source": [
    "def convolve_image(img, filter, preserve):\n",
    "    if filter.c != 1:\n",
    "        raise ValueError(\"filter kernel should only have 1 channel\")\n",
    "\n",
    "    if preserve == True:\n",
    "        ret = Image(img.h-filter.h +1, img.w-filter.w +1, img.c)\n",
    "        for k in range(ret.c):\n",
    "            for j in range(ret.w):\n",
    "                for i in range(ret.h):\n",
    "                    value = 0\n",
    "                    for n in range(filter.w):\n",
    "                        for m in range(filter.h):\n",
    "                            temp = filter.ret[m,n,0]*img[m+i,n+j,k]\n",
    "                            value = value+temp\n",
    "                    ret[i,j,k] = value\n",
    "\n",
    "    if preserve == False:\n",
    "        ret = Image(img.h-filter.h +1, img.w-filter.w +1, 1)\n",
    "        for j in range(ret.w):\n",
    "            for i in range(ret.h):\n",
    "                value = 0\n",
    "                for k in range(img.c):\n",
    "                    for n in range(filter.w):\n",
    "                        for m in range(filter.h):\n",
    "                            temp = filter.ret[m,n,0]*img[m+i,n+j,k]\n",
    "                            value = value+temp\n",
    "                ret[i,j,0] = value\n",
    "\n",
    "    return ret"
   ]
  },
  {
   "cell_type": "code",
   "execution_count": 66,
   "metadata": {},
   "outputs": [],
   "source": [
    "class make_highpass_filter(object):\n",
    "    def __init__(self):\n",
    "        self.kernel = Image(3, 3, 1)\n",
    "\n",
    "        self.h = self.kernel.h\n",
    "        self.w = self.kernel.w\n",
    "        self.c = self.kernel.c\n",
    "\n",
    "        self.ret = Image(self.h, self.w, self.c)\n",
    "        self.ret[0,0,0] = self.ret[0,2,0] = self.ret[2,0,0] = self.ret[2,2,0] = 0\n",
    "        self.ret[1,0,0] = self.ret[0,1,0] = self.ret[2,1,0] = self.ret[1,2,0] = -1\n",
    "        self.ret[1,1,0] = 4\n",
    "                \n",
    "    def __call__(self, local):\n",
    "        out = 0\n",
    "\n",
    "\n",
    "        return out\n",
    "\n",
    "class make_sharpen_filter(object):\n",
    "    def __init__(self):\n",
    "        self.kernel = Image(3, 3, 1)\n",
    "\n",
    "        self.h = self.kernel.h\n",
    "        self.w = self.kernel.w\n",
    "        self.c = self.kernel.c\n",
    "\n",
    "        self.ret = Image(self.h, self.w, self.c)\n",
    "        self.ret[0,0,0] = self.ret[0,2,0] = self.ret[2,0,0] = self.ret[2,2,0] = 0\n",
    "        self.ret[1,0,0] = self.ret[0,1,0] = self.ret[2,1,0] = self.ret[1,2,0] = -1\n",
    "        self.ret[1,1,0] = 5\n",
    "\n",
    "    def __call__(self, local):\n",
    "        out = 0\n",
    "\n",
    "\n",
    "        return out\n",
    "\n",
    "class make_emboss_filter(object):\n",
    "    def __init__(self):\n",
    "        self.kernel = Image(3, 3, 1)\n",
    "\n",
    "        self.h = self.kernel.h\n",
    "        self.w = self.kernel.w\n",
    "        self.c = self.kernel.c\n",
    "\n",
    "        self.ret = Image(self.h, self.w, self.c)\n",
    "        self.ret[0,0,0] = -2\n",
    "        self.ret[1,0,0] = self.ret[0,1,0] = -1\n",
    "        self.ret[2,0,0] = self.ret[0,2,0] = 0\n",
    "        self.ret[1,1,0] = self.ret[2,1,0] = self.ret[1,2,0] = 1\n",
    "        self.ret[2,2,0] = 2\n",
    "\n",
    "    def __call__(self, local):\n",
    "        out = 0\n",
    "\n",
    "\n",
    "        return out\n"
   ]
  },
  {
   "cell_type": "code",
   "execution_count": 52,
   "metadata": {},
   "outputs": [],
   "source": [
    "img = load_img(\"data/dog.jpg\")\n",
    "filter = make_box_filter(7)\n",
    "pad_img = padding_image(img, filter)\n",
    "blur = convolve_image(pad_img, filter, True)\n",
    "clamp_image(blur)\n",
    "save_img(\"out/convolution_image.jpg\", blur)"
   ]
  },
  {
   "cell_type": "code",
   "execution_count": 57,
   "metadata": {},
   "outputs": [],
   "source": [
    "img = load_img(\"data/dog.jpg\")\n",
    "filter = make_box_filter(7)\n",
    "pad_img = padding_image(img, filter)\n",
    "blur = convolve_image(pad_img, filter, False)\n",
    "clamp_image(blur)\n",
    "save_img(\"out/convolution_no_preserve_image.jpg\", blur)"
   ]
  },
  {
   "cell_type": "code",
   "execution_count": 63,
   "metadata": {},
   "outputs": [],
   "source": [
    "    img = load_img(\"data/dog.jpg\")\n",
    "    filter = make_highpass_filter()\n",
    "    pad_img = padding_image(img, filter)\n",
    "    blur = convolve_image(pad_img, filter, False)\n",
    "    clamp_image(blur)\n",
    "    save_img(\"out/highpass_case.jpg\", blur)"
   ]
  },
  {
   "cell_type": "code",
   "execution_count": 65,
   "metadata": {},
   "outputs": [],
   "source": [
    "    img = load_img(\"data/dog.jpg\")\n",
    "    filter = make_sharpen_filter()\n",
    "    pad_img = padding_image(img, filter)\n",
    "    blur = convolve_image(pad_img, filter, True)\n",
    "    clamp_image(blur)\n",
    "    save_img(\"out/sharpen_case.jpg\", blur)"
   ]
  },
  {
   "cell_type": "code",
   "execution_count": null,
   "metadata": {},
   "outputs": [],
   "source": [
    "    img = load_img(\"data/dog.jpg\")\n",
    "    filter = make_emboss_filter()\n",
    "    pad_img = padding_image(img, filter)\n",
    "    blur = convolve_image(pad_img, filter, True)\n",
    "    clamp_image(blur)\n",
    "    save_img(\"out/emboss_case.jpg\", blur)"
   ]
  },
  {
   "cell_type": "code",
   "execution_count": 63,
   "metadata": {},
   "outputs": [],
   "source": [
    "def nearest_resize(img, w, h):\n",
    "    source = img\n",
    "    target = Image(h, w, img.c)\n",
    "    ## note: access pixel should input [h_coord, w_coord, c_coord], and simply use int() to get integer number, not round()\n",
    "    ## TODO: use source pixel value to fill target pixel value\n",
    "    \n",
    "    ## Get ratio for resize\n",
    "    w_ratio = w/source.w ; h_ratio = h/source.h\n",
    "    w_ratio_array = []; h_ratio_array = []; \n",
    "\n",
    "    ## Caulculate the integer index of each target pixel\n",
    "    for j in range(w):\n",
    "        w_ratio_array.append(int((j+0.5)/w_ratio))\n",
    "    for i in range(h):\n",
    "        h_ratio_array.append(int((i+0.5)/h_ratio))\n",
    "\n",
    "    ## Read source pixel by index\n",
    "    for k in range(target.c):\n",
    "        for j in range(w):\n",
    "            for i in range(h):\n",
    "                target[i,j,k] = source[h_ratio_array[i],w_ratio_array[j],k] \n",
    "\n",
    "    return target"
   ]
  },
  {
   "cell_type": "code",
   "execution_count": 42,
   "metadata": {},
   "outputs": [],
   "source": [
    "def bilinear_resize(img, w, h):\n",
    "    source = img\n",
    "    target = Image(h, w, img.c)\n",
    "    ## note: access pixel should input [h_coord, w_coord, c_coord], and simply use int() to get integer number, not round()\n",
    "    ## TODO: use source pixel value to fill target pixel value\n",
    "    \n",
    "    import numpy as np\n",
    "    ## Get ratio for resize\n",
    "    w_ratio = (w-1)/(source.w-1) ; h_ratio = (h-1)/(source.h-1)\n",
    "    w_ratio_array = []; h_ratio_array = []; \n",
    "\n",
    "    for j in range(w):\n",
    "        w_ratio_array.append(round(j/w_ratio,10))\n",
    "    for i in range(h):\n",
    "        h_ratio_array.append(round(i/h_ratio,10))\n",
    "    \n",
    "    for k in range(target.c):\n",
    "        for j in range(w):\n",
    "            for i in range(h):\n",
    "                height1 = (h_ratio_array[i]-np.floor(h_ratio_array[i]))\n",
    "                height2 = 1-height1\n",
    "                width1  = (w_ratio_array[j]-np.floor(w_ratio_array[j]))\n",
    "                width2  = 1-width1\n",
    "                ratio1 = (1-height1)*(1-width1)\n",
    "                ratio2 = (1-height1)*(1-width2)\n",
    "                ratio3 = (1-height2)*(1-width1)\n",
    "                ratio4 = (1-height2)*(1-width2)\n",
    "                value1 = ratio1 * source[int(np.floor(h_ratio_array[i])),int(np.floor(w_ratio_array[j])),k] \n",
    "                value2 = ratio2 * source[int(np.floor(h_ratio_array[i])),int(np.ceil(w_ratio_array[j])),k] \n",
    "                value3 = ratio3 * source[int(np.ceil(h_ratio_array[i])) ,int(np.floor(w_ratio_array[j])),k] \n",
    "                value4 = ratio4 * source[int(np.ceil(h_ratio_array[i])) ,int(np.ceil(w_ratio_array[j])),k] \n",
    "                target[i,j,k] = value1+value2+value3+value4\n",
    "                \n",
    "    return target\n"
   ]
  },
  {
   "cell_type": "code",
   "execution_count": 55,
   "metadata": {},
   "outputs": [
    {
     "data": {
      "text/plain": [
       "0.2313"
      ]
     },
     "execution_count": 55,
     "metadata": {},
     "output_type": "execute_result"
    }
   ],
   "source": [
    "source[0,0,0]"
   ]
  },
  {
   "cell_type": "code",
   "execution_count": 64,
   "metadata": {},
   "outputs": [],
   "source": [
    "img = load_img(\"data/dogsmall.jpg\")\n",
    "resized = nearest_resize(img, img.w * 4, img.h * 4)\n",
    "save_img(\"out/nn_resize_4x.jpg\", resized)\n",
    "\n",
    "img = load_img(\"data/dog.jpg\")\n",
    "resized = nearest_resize(img, 713, 467)\n",
    "save_img(\"out/nn_resize_adaptive.jpg\", resized)"
   ]
  },
  {
   "cell_type": "code",
   "execution_count": 43,
   "metadata": {},
   "outputs": [],
   "source": [
    "img = load_img(\"data/dogsmall.jpg\")\n",
    "resized = bilinear_resize(img, img.w * 4, img.h * 4)\n",
    "save_img(\"out/bl_resize_4x.jpg\", resized)"
   ]
  },
  {
   "cell_type": "code",
   "execution_count": 44,
   "metadata": {},
   "outputs": [],
   "source": [
    "img = load_img(\"data/dog.jpg\")\n",
    "resized = bilinear_resize(img, 713, 467)\n",
    "save_img(\"out/bl_resize_adaptive.jpg\", resized)"
   ]
  },
  {
   "cell_type": "code",
   "execution_count": 75,
   "metadata": {},
   "outputs": [],
   "source": [
    "class make_box_filter(object):\n",
    "    def __init__(self, kernel_size):\n",
    "        if kernel_size % 2 == 0:\n",
    "            raise ValueError(\"kernel size needs to be odd\")\n",
    "        self.kernel = Image(kernel_size, kernel_size, 1)\n",
    "        self.h = self.kernel.h\n",
    "        self.w = self.kernel.w\n",
    "        self.c = self.kernel.c\n",
    "\n",
    "\n",
    "    def __call__(self, local):\n",
    "\n",
    "        for j in range(self.w):\n",
    "            for i in range(self.h):\n",
    "                ## Fill all with 1 and normalize\n",
    "                kernel[i,j,0]=1/(kernel.w*kernel.h)\n",
    "        return kernel"
   ]
  },
  {
   "cell_type": "code",
   "execution_count": 77,
   "metadata": {},
   "outputs": [],
   "source": [
    "    img = load_img(\"data/dog.jpg\")\n",
    "    filter = make_box_filter(47)\n",
    "    pad_img = padding_image(img, filter)"
   ]
  },
  {
   "cell_type": "code",
   "execution_count": 74,
   "metadata": {},
   "outputs": [
    {
     "ename": "TypeError",
     "evalue": "'make_box_filter' object is not subscriptable",
     "output_type": "error",
     "traceback": [
      "\u001b[0;31m---------------------------------------------------------------------------\u001b[0m",
      "\u001b[0;31mTypeError\u001b[0m                                 Traceback (most recent call last)",
      "\u001b[1;32m/workspace/project/CV-assignment2/test.ipynb Cell 12'\u001b[0m in \u001b[0;36m<module>\u001b[0;34m\u001b[0m\n\u001b[0;32m----> <a href='vscode-notebook-cell://attached-container%2B7b22636f6e7461696e65724e616d65223a222f7079746f726368227d/workspace/project/CV-assignment2/test.ipynb#ch0000042vscode-remote?line=0'>1</a>\u001b[0m \u001b[39mfilter\u001b[39;49m[\u001b[39m0\u001b[39;49m]\n",
      "\u001b[0;31mTypeError\u001b[0m: 'make_box_filter' object is not subscriptable"
     ]
    }
   ],
   "source": [
    "filter[0]"
   ]
  }
 ],
 "metadata": {
  "interpreter": {
   "hash": "d4d1e4263499bec80672ea0156c357c1ee493ec2b1c70f0acce89fc37c4a6abe"
  },
  "kernelspec": {
   "display_name": "Python 3.8.12 ('base')",
   "language": "python",
   "name": "python3"
  },
  "language_info": {
   "codemirror_mode": {
    "name": "ipython",
    "version": 3
   },
   "file_extension": ".py",
   "mimetype": "text/x-python",
   "name": "python",
   "nbconvert_exporter": "python",
   "pygments_lexer": "ipython3",
   "version": "3.8.12"
  },
  "orig_nbformat": 4
 },
 "nbformat": 4,
 "nbformat_minor": 2
}
